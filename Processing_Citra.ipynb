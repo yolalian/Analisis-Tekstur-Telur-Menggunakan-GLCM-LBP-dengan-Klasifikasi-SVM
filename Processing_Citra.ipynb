{
  "nbformat": 4,
  "nbformat_minor": 0,
  "metadata": {
    "colab": {
      "provenance": []
    },
    "kernelspec": {
      "name": "python3",
      "display_name": "Python 3"
    },
    "language_info": {
      "name": "python"
    }
  },
  "cells": [
    {
      "cell_type": "code",
      "source": [
        "import os\n",
        "import cv2\n",
        "import numpy as np\n",
        "from tqdm import tqdm\n",
        "from google.colab import drive"
      ],
      "metadata": {
        "id": "w5x_tMx7C1Cn"
      },
      "execution_count": null,
      "outputs": []
    },
    {
      "cell_type": "code",
      "source": [
        "# 1. Mount Google Drive\n",
        "drive.mount('/content/drive')\n",
        "\n",
        "# 2. Tentukan Path untuk Input dan Output\n",
        "input_path = \"/content/drive/MyDrive/Dataset_Telur_Skripsi\"\n",
        "output_path = \"/content/drive/MyDrive/Result_Preprocessed(fix)\"\n",
        "\n",
        "# 3. Folder kategori\n",
        "classes = ['Berkualitas', 'Kurang Berkualitas', 'Tidak Berkualitas']\n",
        "\n",
        "# 4. Memastikan folder output ada\n",
        "if not os.path.exists(output_path):\n",
        "    os.makedirs(output_path)"
      ],
      "metadata": {
        "colab": {
          "base_uri": "https://localhost:8080/"
        },
        "id": "qAhI0FvOC79m",
        "outputId": "bf9e0fb6-638a-4415-b56f-fa9fb12f2174"
      },
      "execution_count": null,
      "outputs": [
        {
          "output_type": "stream",
          "name": "stdout",
          "text": [
            "Mounted at /content/drive\n"
          ]
        }
      ]
    },
    {
      "cell_type": "code",
      "source": [
        "# 5. Fungsi untuk Crop Gambar Fokus pada Telur Menggunakan Deteksi Kontur\n",
        "def crop_to_egg(image):\n",
        "    gray = cv2.cvtColor(image, cv2.COLOR_BGR2GRAY)\n",
        "    blurred = cv2.GaussianBlur(gray, (7, 7), 0)  # Gunakan kernel yang lebih besar\n",
        "    _, thresholded = cv2.threshold(blurred, 100, 255, cv2.THRESH_BINARY)\n",
        "    contours, _ = cv2.findContours(thresholded, cv2.RETR_EXTERNAL, cv2.CHAIN_APPROX_SIMPLE)\n",
        "\n",
        "    if contours:\n",
        "        largest_contour = max(contours, key=cv2.contourArea)\n",
        "        x, y, w, h = cv2.boundingRect(largest_contour)\n",
        "        cropped_image = image[y:y+h, x:x+w]\n",
        "        return cropped_image\n",
        "    else:\n",
        "        return image\n",
        "\n",
        "# 6. Fungsi untuk Menerapkan Gaussian Blur pada Gambar (Kernel Kecil)\n",
        "def apply_gaussian_blur(image, kernel_size=(5, 5)):\n",
        "    blurred_image = cv2.GaussianBlur(image, kernel_size, 0)\n",
        "    return blurred_image\n",
        "\n",
        "# 7. Fungsi untuk Menerapkan CLAHE (Contrast Limited Adaptive Histogram Equalization) dengan clipLimit\n",
        "def apply_clahe(image, clipLimit=2.0, tileGridSize=(8, 8)):  # Cobalah dengan clipLimit yang lebih moderat\n",
        "    clahe = cv2.createCLAHE(clipLimit=clipLimit, tileGridSize=tileGridSize)\n",
        "    enhanced_image = clahe.apply(image)\n",
        "    return enhanced_image\n",
        "\n",
        "# 8. Fungsi untuk Resize dan Padding Gambar\n",
        "def resize_and_pad(image, desired_size=(256, 256)):\n",
        "    old_size = image.shape[:2]\n",
        "    ratio = float(desired_size[0]) / max(old_size)\n",
        "    new_size = tuple([int(x * ratio) for x in old_size])\n",
        "    resized_img = cv2.resize(image, (new_size[1], new_size[0]))\n",
        "\n",
        "    delta_w = desired_size[1] - new_size[1]\n",
        "    delta_h = desired_size[0] - new_size[0]\n",
        "    top, bottom = delta_h // 2, delta_h - (delta_h // 2)\n",
        "    left, right = delta_w // 2, delta_w - (delta_w // 2)\n",
        "\n",
        "    padded_img = cv2.copyMakeBorder(resized_img, top, bottom, left, right, cv2.BORDER_CONSTANT, value=(0, 0, 0))\n",
        "    return padded_img\n",
        "\n",
        "# 9. Fungsi untuk Augmentasi (Flip dan Rotasi)\n",
        "def augment_image_safe_versions(image):\n",
        "    flip = cv2.flip(image, 1)  # Flip horizontal\n",
        "    rotate90 = cv2.rotate(image, cv2.ROTATE_90_CLOCKWISE)\n",
        "    return [flip, rotate90]\n",
        "\n",
        "# 10. Fungsi untuk Preprocessing Semua Gambar + Augmentasi Aman\n",
        "def process_preprocessing(input_path, output_path):\n",
        "    for kls in classes:\n",
        "        input_dir = os.path.join(input_path, kls)\n",
        "        output_dir = os.path.join(output_path, kls)\n",
        "        os.makedirs(output_dir, exist_ok=True)\n",
        "\n",
        "        for filename in tqdm(os.listdir(input_dir), desc=f\"Preprocessing {kls}\"):\n",
        "            if filename.lower().endswith(\".jpg\"):\n",
        "                path_img = os.path.join(input_dir, filename)\n",
        "                img = cv2.imread(path_img)\n",
        "\n",
        "                # 1. Crop gambar berdasarkan kontur telur\n",
        "                cropped_image = crop_to_egg(img)\n",
        "\n",
        "                # 2. Ubah gambar menjadi grayscale\n",
        "                gray_image = cv2.cvtColor(cropped_image, cv2.COLOR_BGR2GRAY)\n",
        "\n",
        "                # 3. Preprocessing: blur, CLAHE\n",
        "                blurred_image = apply_gaussian_blur(gray_image, kernel_size=(7, 7))  # Gunakan kernel yang lebih besar\n",
        "                clahe_image = apply_clahe(blurred_image, clipLimit=2.0)  # Menurunkan clipLimit agar lebih natural\n",
        "                final_image = resize_and_pad(clahe_image)\n",
        "\n",
        "                # 4. Simpan gambar hasil preprocessing\n",
        "                base_name = os.path.splitext(filename)[0]\n",
        "                save_path = os.path.join(output_dir, f\"{base_name}_preprocessed.jpg\")\n",
        "                cv2.imwrite(save_path, final_image)\n",
        "\n",
        "                # 5. Lakukan augmentasi\n",
        "                augmentations = augment_image_safe_versions(final_image)\n",
        "                for idx, aug_img in enumerate(augmentations):\n",
        "                    aug_save_path = os.path.join(output_dir, f\"{base_name}_aug{idx+1}.jpg\")\n",
        "                    cv2.imwrite(aug_save_path, aug_img)"
      ],
      "metadata": {
        "id": "u4a2bQCSC_Jr"
      },
      "execution_count": null,
      "outputs": []
    },
    {
      "cell_type": "code",
      "source": [
        "# 7. Panggil proses preprocessing\n",
        "process_preprocessing(input_path, output_path)"
      ],
      "metadata": {
        "colab": {
          "base_uri": "https://localhost:8080/"
        },
        "id": "Fovfm3MYDBPu",
        "outputId": "c2bd4e87-3668-4c68-ea93-abff5ed2c2d3"
      },
      "execution_count": null,
      "outputs": [
        {
          "output_type": "stream",
          "name": "stderr",
          "text": [
            "Preprocessing Berkualitas: 100%|██████████| 270/270 [01:33<00:00,  2.88it/s]\n",
            "Preprocessing Kurang Berkualitas: 100%|██████████| 270/270 [01:41<00:00,  2.67it/s]\n",
            "Preprocessing Tidak Berkualitas: 100%|██████████| 270/270 [01:32<00:00,  2.90it/s]\n"
          ]
        }
      ]
    }
  ]
}