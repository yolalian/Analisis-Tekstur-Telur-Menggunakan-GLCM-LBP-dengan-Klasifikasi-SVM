{
  "nbformat": 4,
  "nbformat_minor": 0,
  "metadata": {
    "colab": {
      "provenance": []
    },
    "kernelspec": {
      "name": "python3",
      "display_name": "Python 3"
    },
    "language_info": {
      "name": "python"
    }
  },
  "cells": [
    {
      "cell_type": "code",
      "execution_count": null,
      "metadata": {
        "id": "Yvt-_mGHc3iF"
      },
      "outputs": [],
      "source": [
        "import os\n",
        "import cv2\n",
        "import numpy as np\n",
        "from google.colab import drive\n",
        "from tqdm import tqdm"
      ]
    },
    {
      "cell_type": "code",
      "source": [
        "# 1. Mount Google Drive\n",
        "drive.mount('/content/drive')\n",
        "\n",
        "# 2. Tentukan Path untuk Input dan Output\n",
        "input_path = \"/content/drive/MyDrive/Dataset_Telur_Skripsi\"  # Path untuk folder dataset telur\n",
        "output_path = \"/content/drive/MyDrive/Preprocessing_Dataset_Skripsi\""
      ],
      "metadata": {
        "colab": {
          "base_uri": "https://localhost:8080/"
        },
        "id": "byhKY9BMc_Xl",
        "outputId": "4ddf08e3-9d85-4407-c8f8-c54b38bf0fe8"
      },
      "execution_count": null,
      "outputs": [
        {
          "output_type": "stream",
          "name": "stdout",
          "text": [
            "Mounted at /content/drive\n"
          ]
        }
      ]
    },
    {
      "cell_type": "code",
      "source": [
        "# 3. Folder kategori\n",
        "classes = ['Berkualitas', 'Kurang Berkualitas', 'Tidak Berkualitas']\n",
        "\n",
        "# 4. Memastikan folder output ada\n",
        "if not os.path.exists(output_path):\n",
        "    os.makedirs(output_path)"
      ],
      "metadata": {
        "id": "1SLGDZDqdAtj"
      },
      "execution_count": null,
      "outputs": []
    },
    {
      "cell_type": "code",
      "source": [
        "# Fungsi untuk crop citra (fokus pada telur)\n",
        "def crop_to_egg(image):\n",
        "    gray = cv2.cvtColor(image, cv2.COLOR_BGR2GRAY)\n",
        "    blurred = cv2.GaussianBlur(gray, (5, 5), 0)\n",
        "    _, thresholded = cv2.threshold(blurred, 100, 255, cv2.THRESH_BINARY)\n",
        "    contours, _ = cv2.findContours(thresholded, cv2.RETR_EXTERNAL, cv2.CHAIN_APPROX_SIMPLE)\n",
        "\n",
        "    if contours:\n",
        "        largest_contour = max(contours, key=cv2.contourArea)\n",
        "        x, y, w, h = cv2.boundingRect(largest_contour)\n",
        "        cropped_image = image[y:y+h, x:x+w]\n",
        "        return cropped_image\n",
        "    else:\n",
        "        return image"
      ],
      "metadata": {
        "id": "yxDiS4CKdkAz"
      },
      "execution_count": null,
      "outputs": []
    },
    {
      "cell_type": "code",
      "source": [
        "# Fungsi untuk menerapkan CLAHE (Contrast Limited Adaptive Histogram Equalization)\n",
        "def apply_clahe(image):\n",
        "    # Konversi citra ke grayscale\n",
        "    gray = cv2.cvtColor(image, cv2.COLOR_BGR2GRAY)\n",
        "    clahe = cv2.createCLAHE(clipLimit=2.0, tileGridSize=(8, 8))\n",
        "    cl_image = clahe.apply(gray)\n",
        "    # Ubah kembali ke BGR agar tetap dalam format warna\n",
        "    return cv2.cvtColor(cl_image, cv2.COLOR_GRAY2BGR)"
      ],
      "metadata": {
        "id": "WNtwh2c2dl-f"
      },
      "execution_count": null,
      "outputs": []
    },
    {
      "cell_type": "code",
      "source": [
        "# Fungsi untuk resize citra\n",
        "def resize_image(image, size=(224, 224)):\n",
        "    return cv2.resize(image, size)"
      ],
      "metadata": {
        "id": "5jnz-sszdncc"
      },
      "execution_count": null,
      "outputs": []
    },
    {
      "cell_type": "code",
      "source": [
        "# Fungsi untuk padding citra (jika diperlukan)\n",
        "def pad_image(image, target_size=(224, 224)):\n",
        "    h, w = image.shape[:2]\n",
        "    top = bottom = (target_size[1] - h) // 2\n",
        "    left = right = (target_size[0] - w) // 2\n",
        "    padded_image = cv2.copyMakeBorder(image, top, bottom, left, right, cv2.BORDER_CONSTANT, value=(0, 0, 0))\n",
        "    return padded_image"
      ],
      "metadata": {
        "id": "b3EwlGpbdpcD"
      },
      "execution_count": null,
      "outputs": []
    },
    {
      "cell_type": "code",
      "source": [
        "# Fungsi untuk augmentasi citra (flip horizontal dan rotasi 90 derajat)\n",
        "def augment_image(image):\n",
        "    # Flip horizontal\n",
        "    flipped_image = cv2.flip(image, 1)\n",
        "\n",
        "    # Rotasi 90 derajat\n",
        "    rotated_image = cv2.rotate(image, cv2.ROTATE_90_CLOCKWISE)\n",
        "\n",
        "    return [flipped_image, rotated_image]"
      ],
      "metadata": {
        "id": "-rIqRhtNdrij"
      },
      "execution_count": null,
      "outputs": []
    },
    {
      "cell_type": "code",
      "source": [
        "# Fungsi untuk memproses dan menyimpan citra yang telah dipreproses\n",
        "def preprocess_and_save(input_path, output_path):\n",
        "    # Memproses semua citra dalam folder\n",
        "    for kls in classes:\n",
        "        input_dir = os.path.join(input_path, kls)\n",
        "\n",
        "        for filename in tqdm(os.listdir(input_dir), desc=f\"Proses {kls}\"):\n",
        "            if filename.lower().endswith(('.jpg', '.png')):\n",
        "                image_path = os.path.join(input_dir, filename)\n",
        "                image = cv2.imread(image_path)\n",
        "\n",
        "                # Crop citra ke fokus telur\n",
        "                cropped_image = crop_to_egg(image)\n",
        "\n",
        "                # Terapkan CLAHE untuk kontras\n",
        "                clahe_image = apply_clahe(cropped_image)\n",
        "\n",
        "                # Resize citra\n",
        "                resized_image = resize_image(clahe_image)\n",
        "\n",
        "                # Padding citra jika perlu\n",
        "                padded_image = pad_image(resized_image)\n",
        "\n",
        "                # Simpan citra yang telah diproses\n",
        "                preprocessed_class_folder = os.path.join(output_path, kls)\n",
        "                if not os.path.exists(preprocessed_class_folder):\n",
        "                    os.makedirs(preprocessed_class_folder)\n",
        "\n",
        "                preprocessed_image_path = os.path.join(preprocessed_class_folder, filename)\n",
        "                cv2.imwrite(preprocessed_image_path, padded_image)\n",
        "\n",
        "                # Lakukan augmentasi dan simpan citra yang sudah diperbesar\n",
        "                augmented_images = augment_image(padded_image)\n",
        "\n",
        "                # Mendapatkan informasi usia simpan dan kelas kualitas dari nama file\n",
        "                usia_simpan = filename.split('_')[0]  # Extract usia simpan berdasarkan nama file (0_1_, 1_2_ etc.)\n",
        "                kelas_kualitas = determine_quality_class(filename)\n",
        "\n",
        "                for idx, augmented_image in enumerate(augmented_images):\n",
        "                    # Penamaan augmentasi yang sesuai\n",
        "                    augmented_image_path = os.path.join(preprocessed_class_folder, f\"{usia_simpan}_aug_{idx}_{filename}\")\n",
        "                    cv2.imwrite(augmented_image_path, augmented_image)\n",
        "\n",
        "# Fungsi untuk menentukan kelas kualitas berdasarkan usia simpan\n",
        "def determine_quality_class(filename):\n",
        "    if filename.startswith(('0_','1_','2_')): return 'Berkualitas'\n",
        "    elif filename.startswith('3_'):           return 'Kurang Berkualitas'\n",
        "    else:                                     return 'Tidak Berkualitas'"
      ],
      "metadata": {
        "id": "3eHy7w-EdtyI"
      },
      "execution_count": null,
      "outputs": []
    },
    {
      "cell_type": "code",
      "source": [
        "# Panggil fungsi untuk preprocessing dan menyimpan citra yang telah diproses\n",
        "preprocess_and_save(input_path, output_path)"
      ],
      "metadata": {
        "colab": {
          "base_uri": "https://localhost:8080/"
        },
        "id": "tdJXo_zGdvCq",
        "outputId": "91dd0122-8cc2-4640-9eed-7598d8626990"
      },
      "execution_count": null,
      "outputs": [
        {
          "output_type": "stream",
          "name": "stderr",
          "text": [
            "Proses Berkualitas: 100%|██████████| 270/270 [01:42<00:00,  2.64it/s]\n",
            "Proses Kurang Berkualitas: 100%|██████████| 270/270 [01:45<00:00,  2.55it/s]\n",
            "Proses Tidak Berkualitas: 100%|██████████| 270/270 [01:45<00:00,  2.57it/s]\n"
          ]
        }
      ]
    }
  ]
}