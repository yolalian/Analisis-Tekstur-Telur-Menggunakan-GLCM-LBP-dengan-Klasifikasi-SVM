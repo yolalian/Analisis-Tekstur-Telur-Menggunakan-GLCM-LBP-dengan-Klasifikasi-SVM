{
  "nbformat": 4,
  "nbformat_minor": 0,
  "metadata": {
    "colab": {
      "provenance": []
    },
    "kernelspec": {
      "name": "python3",
      "display_name": "Python 3"
    },
    "language_info": {
      "name": "python"
    }
  },
  "cells": [
    {
      "cell_type": "code",
      "source": [
        "import os\n",
        "import cv2\n",
        "import numpy as np\n",
        "import pandas as pd\n",
        "from tqdm import tqdm\n",
        "from google.colab import drive"
      ],
      "metadata": {
        "id": "xNm6UreKVsRj"
      },
      "execution_count": null,
      "outputs": []
    },
    {
      "cell_type": "code",
      "source": [
        "# 1. Mount Google Drive\n",
        "drive.mount('/content/drive')\n",
        "\n",
        "# 2. Path untuk Input dan Output\n",
        "input_path = \"/content/drive/MyDrive/Dataset_Telur_Skripsi\"\n",
        "analysis_csv = \"/content/drive/MyDrive/Analisis_DataRGB(fix).csv\""
      ],
      "metadata": {
        "colab": {
          "base_uri": "https://localhost:8080/"
        },
        "id": "LH8xUNs5Vt4n",
        "outputId": "92788644-a5fe-436c-99c8-674e0f4f9afc"
      },
      "execution_count": null,
      "outputs": [
        {
          "output_type": "stream",
          "name": "stdout",
          "text": [
            "Drive already mounted at /content/drive; to attempt to forcibly remount, call drive.mount(\"/content/drive\", force_remount=True).\n"
          ]
        }
      ]
    },
    {
      "cell_type": "code",
      "source": [
        "# 3. Folder kategori\n",
        "classes = ['Berkualitas', 'Kurang Berkualitas', 'Tidak Berkualitas']\n",
        "\n",
        "# Fungsi untuk mendapatkan usia simpan berdasarkan nama file\n",
        "def get_storage_age(filename):\n",
        "    if filename.startswith('0_'):\n",
        "        return '0 minggu'\n",
        "    elif filename.startswith('1_'):\n",
        "        return '1 minggu'\n",
        "    elif filename.startswith('2_'):\n",
        "        return '2 minggu'\n",
        "    elif filename.startswith('3_'):\n",
        "        return '3 minggu'\n",
        "    elif filename.startswith('4_'):\n",
        "        return '4 minggu'\n",
        "    elif filename.startswith('5_'):\n",
        "        return '5 minggu'\n",
        "    else:\n",
        "        return 'Tidak diketahui'\n",
        "\n",
        "# Fungsi untuk menentukan kelas kualitas berdasarkan usia simpan\n",
        "def determine_quality_class(filename):\n",
        "    if filename.startswith('0_') or filename.startswith('1_') or filename.startswith('2_'):\n",
        "        return 'Berkualitas'\n",
        "    elif filename.startswith('3_'):\n",
        "        return 'Kurang Berkualitas'\n",
        "    else:\n",
        "        return 'Tidak Berkualitas'"
      ],
      "metadata": {
        "id": "pzHn9-61X4mX"
      },
      "execution_count": null,
      "outputs": []
    },
    {
      "cell_type": "code",
      "source": [
        "# 4. Fungsi untuk Crop Gambar Fokus pada Telur Menggunakan Deteksi Kontur\n",
        "def crop_to_egg(image):\n",
        "    gray = cv2.cvtColor(image, cv2.COLOR_BGR2GRAY)\n",
        "    blurred = cv2.GaussianBlur(gray, (5, 5), 0)\n",
        "    _, thresholded = cv2.threshold(blurred, 100, 255, cv2.THRESH_BINARY)\n",
        "    contours, _ = cv2.findContours(thresholded, cv2.RETR_EXTERNAL, cv2.CHAIN_APPROX_SIMPLE)\n",
        "\n",
        "    if contours:\n",
        "        largest_contour = max(contours, key=cv2.contourArea)\n",
        "        x, y, w, h = cv2.boundingRect(largest_contour)\n",
        "        cropped_image = image[y:y+h, x:x+w]\n",
        "        return cropped_image\n",
        "    else:\n",
        "        return image"
      ],
      "metadata": {
        "id": "e1fiJ9bjYAjG"
      },
      "execution_count": null,
      "outputs": []
    },
    {
      "cell_type": "code",
      "source": [
        "# 5. Fungsi untuk Analisis RGB dan Standar Deviasi\n",
        "def analyze_rgb_and_std(image):\n",
        "    mean_rgb = np.mean(image, axis=(0, 1))\n",
        "    std_rgb = np.std(image, axis=(0, 1))\n",
        "    return mean_rgb, std_rgb"
      ],
      "metadata": {
        "id": "BU7mKHKfYBxB"
      },
      "execution_count": null,
      "outputs": []
    },
    {
      "cell_type": "code",
      "source": [
        "# 6. Fungsi untuk Menyimpan Hasil CSV Analisis RGB\n",
        "def process_and_analyze_rgb(input_path, analysis_csv):\n",
        "    columns = ['filename', 'mean_R', 'mean_G', 'mean_B', 'std_R', 'std_G', 'std_B', 'usia_simpan', 'kelas_kualitas']\n",
        "    analysis_df = pd.DataFrame(columns=columns)\n",
        "\n",
        "    for kls in classes:\n",
        "        input_dir = os.path.join(input_path, kls)\n",
        "\n",
        "        for filename in tqdm(os.listdir(input_dir), desc=f\"Proses {kls}\"):\n",
        "            if filename.lower().endswith((\".jpg\", \".png\")):  # Periksa format citra lebih umum\n",
        "                path_img = os.path.join(input_dir, filename)\n",
        "                img = cv2.imread(path_img)\n",
        "\n",
        "                # Periksa apakah citra terbaca dengan benar\n",
        "                if img is None:\n",
        "                    print(f\"Error: Gambar {filename} tidak dapat dibaca.\")\n",
        "                    continue  # Skip jika citra tidak terbaca\n",
        "\n",
        "                # Crop gambar berdasarkan kontur telur\n",
        "                cropped_image = crop_to_egg(img)\n",
        "\n",
        "                # Analisis RGB dan Standar Deviasi setelah cropping\n",
        "                mean_rgb, std_rgb = analyze_rgb_and_std(cropped_image)\n",
        "\n",
        "                # Menambahkan analisis RGB dan kolom baru untuk usia simpan dan kelas kualitas ke dataframe\n",
        "                analysis_row = pd.DataFrame([{\n",
        "                    'filename': filename,\n",
        "                    'mean_R': mean_rgb[2],  # RGB order: Red = 2, Green = 1, Blue = 0\n",
        "                    'mean_G': mean_rgb[1],\n",
        "                    'mean_B': mean_rgb[0],\n",
        "                    'std_R': std_rgb[2],\n",
        "                    'std_G': std_rgb[1],\n",
        "                    'std_B': std_rgb[0],\n",
        "                    'usia_simpan': get_storage_age(filename),\n",
        "                    'kelas_kualitas': determine_quality_class(filename)\n",
        "                }])\n",
        "\n",
        "                analysis_df = pd.concat([analysis_df, analysis_row], ignore_index=True)\n",
        "\n",
        "    # Menyimpan hasil analisis RGB ke CSV\n",
        "    analysis_df.to_csv(analysis_csv, index=False)"
      ],
      "metadata": {
        "id": "2F6Bv9K7YEF4"
      },
      "execution_count": null,
      "outputs": []
    },
    {
      "cell_type": "code",
      "source": [
        "# 7. Panggil proses untuk analisis RGB dan simpan ke CSV\n",
        "process_and_analyze_rgb(input_path, analysis_csv)"
      ],
      "metadata": {
        "colab": {
          "base_uri": "https://localhost:8080/"
        },
        "id": "SyWLXcaFYFW9",
        "outputId": "ddeff8bf-1fac-49fc-8c07-4b2b0a8609cd"
      },
      "execution_count": null,
      "outputs": [
        {
          "output_type": "stream",
          "name": "stderr",
          "text": [
            "Proses Berkualitas:   0%|          | 0/270 [00:00<?, ?it/s]/tmp/ipython-input-3961608597.py:38: FutureWarning: The behavior of DataFrame concatenation with empty or all-NA entries is deprecated. In a future version, this will no longer exclude empty or all-NA columns when determining the result dtypes. To retain the old behavior, exclude the relevant entries before the concat operation.\n",
            "  analysis_df = pd.concat([analysis_df, analysis_row], ignore_index=True)\n",
            "Proses Berkualitas: 100%|██████████| 270/270 [02:20<00:00,  1.92it/s]\n",
            "Proses Kurang Berkualitas: 100%|██████████| 270/270 [02:38<00:00,  1.71it/s]\n",
            "Proses Tidak Berkualitas: 100%|██████████| 270/270 [02:38<00:00,  1.71it/s]\n"
          ]
        }
      ]
    }
  ]
}