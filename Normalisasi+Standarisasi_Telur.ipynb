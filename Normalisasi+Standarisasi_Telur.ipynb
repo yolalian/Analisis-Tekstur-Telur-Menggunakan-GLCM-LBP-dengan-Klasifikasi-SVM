{
  "nbformat": 4,
  "nbformat_minor": 0,
  "metadata": {
    "colab": {
      "provenance": []
    },
    "kernelspec": {
      "name": "python3",
      "display_name": "Python 3"
    },
    "language_info": {
      "name": "python"
    }
  },
  "cells": [
    {
      "cell_type": "code",
      "source": [
        "# 1. Mount Google Drive\n",
        "from google.colab import drive\n",
        "drive.mount('/content/drive')"
      ],
      "metadata": {
        "id": "Ws5Op_ThCkgq",
        "outputId": "a3986d62-1878-4939-8736-0cfd6a789f2c",
        "colab": {
          "base_uri": "https://localhost:8080/"
        }
      },
      "execution_count": null,
      "outputs": [
        {
          "output_type": "stream",
          "name": "stdout",
          "text": [
            "Mounted at /content/drive\n"
          ]
        }
      ]
    },
    {
      "cell_type": "code",
      "source": [
        "import pandas as pd\n",
        "import numpy as np\n",
        "\n",
        "def minmax_safe(x):\n",
        "    x = x.astype(float)\n",
        "    xmin = np.nanmin(x)\n",
        "    xmax = np.nanmax(x)\n",
        "    if not np.isfinite(xmin) or not np.isfinite(xmax):\n",
        "        return x  # ada NaN/inf, biarkan apa adanya\n",
        "    if np.isclose(xmax, xmin):\n",
        "        return np.zeros_like(x)  # kolom konstan → 0 semua agar tidak NaN\n",
        "    return (x - xmin) / (xmax - xmin)\n",
        "\n",
        "input_csv  = \"/content/drive/MyDrive/Hasil_Ekstraksi_Telur.csv\"\n",
        "output_csv = \"/content/drive/MyDrive/Hasil_Ekstraksi_Telur_Normalized.csv\"\n",
        "\n",
        "df = pd.read_csv(input_csv)\n",
        "\n",
        "feature_cols = [\n",
        "    'kontras_glcm','korelasi_glcm','energi_glcm','homogenitas_glcm','entropi_glcm',\n",
        "    'variance_glcm','skewness_glcm','std_dev_glcm','mean_glcm',\n",
        "    'mean_lbp','std_dev_lbp','energi_lbp','entropi_lbp','variance_lbp','skewness_lbp',\n",
        "    'kontras_lbp','korelasi_lbp','homogenitas_lbp'\n",
        "]\n",
        "\n",
        "for c in feature_cols:\n",
        "    if c in df.columns:\n",
        "        df[c] = minmax_safe(df[c].values)\n",
        "\n",
        "df.to_csv(output_csv, index=False)\n",
        "print(\"Disimpan:\", output_csv)\n"
      ],
      "metadata": {
        "colab": {
          "base_uri": "https://localhost:8080/"
        },
        "id": "E6zkyPLn8AHj",
        "outputId": "252e78b8-3049-4008-bb5c-3a0bcc784235"
      },
      "execution_count": null,
      "outputs": [
        {
          "output_type": "stream",
          "name": "stdout",
          "text": [
            "Disimpan: /content/drive/MyDrive/Hasil_Ekstraksi_Telur_Normalized.csv\n"
          ]
        }
      ]
    }
  ]
}