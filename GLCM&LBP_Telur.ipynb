{
  "nbformat": 4,
  "nbformat_minor": 0,
  "metadata": {
    "colab": {
      "provenance": []
    },
    "kernelspec": {
      "name": "python3",
      "display_name": "Python 3"
    },
    "language_info": {
      "name": "python"
    }
  },
  "cells": [
    {
      "cell_type": "code",
      "source": [
        "import os\n",
        "import cv2\n",
        "import numpy as np\n",
        "import pandas as pd\n",
        "from skimage.feature import graycomatrix, graycoprops, local_binary_pattern\n",
        "from skimage import img_as_ubyte\n",
        "from tqdm import tqdm"
      ],
      "metadata": {
        "id": "Yo_A02S90l7b"
      },
      "execution_count": null,
      "outputs": []
    },
    {
      "cell_type": "code",
      "source": [
        "# 1. Mount Google Drive\n",
        "from google.colab import drive\n",
        "drive.mount('/content/drive')"
      ],
      "metadata": {
        "colab": {
          "base_uri": "https://localhost:8080/"
        },
        "id": "kjzj3FI-0m5R",
        "outputId": "5e81f711-f99e-483d-bf7a-4a8ebf8b9155"
      },
      "execution_count": null,
      "outputs": [
        {
          "output_type": "stream",
          "name": "stdout",
          "text": [
            "Mounted at /content/drive\n"
          ]
        }
      ]
    },
    {
      "cell_type": "code",
      "source": [
        "# 2. Path untuk Input dan Output\n",
        "input_path = \"/content/drive/MyDrive/Preprocessing_Dataset_Skripsi\"\n",
        "output_csv = \"/content/drive/MyDrive/Hasil_Ekstraksi_Telur.csv\""
      ],
      "metadata": {
        "id": "bVfVzJa-0n9_"
      },
      "execution_count": null,
      "outputs": []
    },
    {
      "cell_type": "code",
      "source": [
        "# 3) Kelas\n",
        "classes = ['Berkualitas', 'Kurang Berkualitas', 'Tidak Berkualitas']\n",
        "\n",
        "def get_storage_age(filename):\n",
        "    if   filename.startswith('0_'): return '0 minggu'\n",
        "    elif filename.startswith('1_'): return '1 minggu'\n",
        "    elif filename.startswith('2_'): return '2 minggu'\n",
        "    elif filename.startswith('3_'): return '3 minggu'\n",
        "    elif filename.startswith('4_'): return '4 minggu'\n",
        "    elif filename.startswith('5_'): return '5 minggu'\n",
        "    else:                           return 'Tidak diketahui'\n",
        "\n",
        "def determine_quality_class(filename):\n",
        "    if filename.startswith(('0_','1_','2_')): return 'Berkualitas'\n",
        "    elif filename.startswith('3_'):           return 'Kurang Berkualitas'\n",
        "    else:                                     return 'Tidak Berkualitas'"
      ],
      "metadata": {
        "id": "TXjfjBfu0pjI"
      },
      "execution_count": null,
      "outputs": []
    },
    {
      "cell_type": "code",
      "source": [
        "# ---------- GLCM ----------\n",
        "def extract_glcm_features(image):\n",
        "    gray = cv2.cvtColor(image, cv2.COLOR_BGR2GRAY)\n",
        "    gray = img_as_ubyte(gray)  # pastikan 8-bit\n",
        "\n",
        "    glcm = graycomatrix(\n",
        "        gray,\n",
        "        distances=[1,2,3],\n",
        "        angles=[0, np.pi/4, np.pi/2, 3*np.pi/4],\n",
        "        symmetric=True, normed=True\n",
        "    )\n",
        "\n",
        "    contrast    = graycoprops(glcm, 'contrast').mean()\n",
        "    correlation = graycoprops(glcm, 'correlation').mean()\n",
        "    energy      = graycoprops(glcm, 'energy').mean()\n",
        "    homogeneity = graycoprops(glcm, 'homogeneity').mean()\n",
        "\n",
        "    # Entropi GLCM (dari matriks ko-occurence yg sudah ternormalisasi)\n",
        "    P = glcm.astype(np.float64)\n",
        "    eps = 1e-12\n",
        "    ent_glcm = -np.sum(P * np.log2(P + eps))\n",
        "\n",
        "    # statistik intensitas citra (bukan GLCM)\n",
        "    var_glcm   = float(np.var(gray))\n",
        "    std_glcm   = float(np.std(gray))\n",
        "    mean_glcm  = float(np.mean(gray))\n",
        "\n",
        "    # skewness intensitas citra\n",
        "    m  = np.mean(gray)\n",
        "    sd = np.std(gray) + 1e-12\n",
        "    skew_glcm = float(np.mean(((gray - m)/sd)**3))\n",
        "\n",
        "    return dict(\n",
        "        kontras_glcm=contrast,\n",
        "        korelasi_glcm=correlation,\n",
        "        energi_glcm=energy,\n",
        "        homogenitas_glcm=homogeneity,\n",
        "        entropi_glcm=ent_glcm,\n",
        "        variance_glcm=var_glcm,\n",
        "        skewness_glcm=skew_glcm,\n",
        "        std_dev_glcm=std_glcm,\n",
        "        mean_glcm=mean_glcm\n",
        "    )"
      ],
      "metadata": {
        "id": "xQfFcIsl0rjF"
      },
      "execution_count": null,
      "outputs": []
    },
    {
      "cell_type": "code",
      "source": [
        "# ---------- LBP ----------\n",
        "def extract_lbp_features(image, P=8, R=1, method='uniform'):\n",
        "    gray = cv2.cvtColor(image, cv2.COLOR_BGR2GRAY)\n",
        "\n",
        "    lbp = local_binary_pattern(gray, P, R, method=method)\n",
        "    # jumlah bin untuk 'uniform' = P+2 (0..P untuk uniform, dan satu bin non-uniform)\n",
        "    n_bins = P + 2\n",
        "    bins = np.arange(0, n_bins+1)  # edges: 0..n_bins\n",
        "\n",
        "    hist, _ = np.histogram(lbp.ravel(), bins=bins, range=(0, n_bins))\n",
        "    hist = hist.astype(np.float64)\n",
        "    hist_sum = hist.sum() + 1e-12\n",
        "    p = hist / hist_sum  # distribusi probabilitas\n",
        "\n",
        "    # ---- fitur LBP dari distribusi p ----\n",
        "    # Mean LBP = ekspektasi kode (bukan mean dari p)\n",
        "    bin_indices = np.arange(n_bins, dtype=np.float64)\n",
        "    mean_lbp = float(np.sum(bin_indices * p))\n",
        "\n",
        "    # Entropi LBP (definisi info teoritis)\n",
        "    eps = 1e-12\n",
        "    entropy_lbp = float(-np.sum(p * np.log2(p + eps)))\n",
        "\n",
        "    # Energi (ASM) = sum p^2\n",
        "    energy_lbp = float(np.sum(p**2))\n",
        "\n",
        "    # Variansi LBP (terhadap mean kode)\n",
        "    var_lbp = float(np.sum(((bin_indices - mean_lbp)**2) * p))\n",
        "\n",
        "    # Std dev LBP\n",
        "    std_lbp = float(np.sqrt(var_lbp + 1e-18))\n",
        "\n",
        "    # Skewness LBP\n",
        "    skew_lbp = float(np.sum(((bin_indices - mean_lbp)**3) * p) / ((std_lbp + 1e-12)**3))\n",
        "\n",
        "    # \"Kontras/Korelasi/Homogenitas\" berbasis histogram (definisi turunan, bukan standar)\n",
        "    # Kontras LBP (pilihan umum: variansi distribusi p terhadap indeks)\n",
        "    kontras_lbp = var_lbp\n",
        "\n",
        "    # Korelasi LBP: korelasi antara indeks bin dan probabilitas sebagai sinyal (heuristik)\n",
        "    # gunakan korelasi Pearson pada (indeks, p)\n",
        "    if np.std(bin_indices) < 1e-12 or np.std(p) < 1e-12:\n",
        "        korelasi_lbp = 0.0\n",
        "    else:\n",
        "        korelasi_lbp = float(np.corrcoef(bin_indices, p)[0,1])\n",
        "\n",
        "    # Homogenitas LBP (heuristik seperti IDM pada indeks)\n",
        "    homogenitas_lbp = float(np.sum(p / (1.0 + (bin_indices - mean_lbp)**2)))\n",
        "\n",
        "    return dict(\n",
        "        mean_lbp=mean_lbp,\n",
        "        std_dev_lbp=std_lbp,\n",
        "        energi_lbp=energy_lbp,\n",
        "        entropi_lbp=entropy_lbp,\n",
        "        variance_lbp=var_lbp,\n",
        "        skewness_lbp=skew_lbp,\n",
        "        kontras_lbp=kontras_lbp,\n",
        "        korelasi_lbp=korelasi_lbp,\n",
        "        homogenitas_lbp=homogenitas_lbp\n",
        "    )"
      ],
      "metadata": {
        "id": "FusIpGiP0wpl"
      },
      "execution_count": null,
      "outputs": []
    },
    {
      "cell_type": "code",
      "source": [
        "# ---------- Proses semua gambar ----------\n",
        "def extract_and_save_features(input_path, output_csv):\n",
        "    cols = [\n",
        "        # GLCM\n",
        "        'kontras_glcm','korelasi_glcm','energi_glcm','homogenitas_glcm','entropi_glcm',\n",
        "        'variance_glcm','skewness_glcm','std_dev_glcm','mean_glcm',\n",
        "        # LBP\n",
        "        'mean_lbp','std_dev_lbp','energi_lbp','entropi_lbp','variance_lbp','skewness_lbp',\n",
        "        'kontras_lbp','korelasi_lbp','homogenitas_lbp',\n",
        "        # label\n",
        "        'usia_simpan','kelas_kualitas','filename'\n",
        "    ]\n",
        "    out = []\n",
        "\n",
        "    for kls in classes:\n",
        "        input_dir = os.path.join(input_path, kls)\n",
        "        if not os.path.isdir(input_dir):\n",
        "            continue\n",
        "\n",
        "        for filename in tqdm([f for f in os.listdir(input_dir) if f.lower().endswith(('.jpg','.png','.jpeg'))],\n",
        "                             desc=f\"Proses {kls}\"):\n",
        "            path = os.path.join(input_dir, filename)\n",
        "            img  = cv2.imread(path)\n",
        "            if img is None:\n",
        "                continue\n",
        "\n",
        "            f_glcm = extract_glcm_features(img)\n",
        "            f_lbp  = extract_lbp_features(img, P=8, R=1, method='uniform')\n",
        "\n",
        "            row = {\n",
        "                **f_glcm,\n",
        "                **f_lbp,\n",
        "                'usia_simpan': get_storage_age(filename),\n",
        "                'kelas_kualitas': determine_quality_class(filename),\n",
        "                'filename': filename\n",
        "            }\n",
        "            out.append(row)\n",
        "\n",
        "    df = pd.DataFrame(out, columns=cols)\n",
        "    df.to_csv(output_csv, index=False)\n",
        "    print(\"Selesai:\", output_csv)"
      ],
      "metadata": {
        "id": "A-JJ4hJQ0yhg"
      },
      "execution_count": null,
      "outputs": []
    },
    {
      "cell_type": "code",
      "source": [
        "extract_and_save_features(input_path, output_csv)"
      ],
      "metadata": {
        "colab": {
          "base_uri": "https://localhost:8080/"
        },
        "id": "JqyvwRoJ0zpG",
        "outputId": "fcfc0d9b-5edd-474c-d41a-067ffe176756"
      },
      "execution_count": null,
      "outputs": [
        {
          "output_type": "stream",
          "name": "stderr",
          "text": [
            "Proses Berkualitas: 100%|██████████| 810/810 [01:55<00:00,  7.03it/s]\n",
            "Proses Kurang Berkualitas: 100%|██████████| 810/810 [01:55<00:00,  7.02it/s]\n",
            "Proses Tidak Berkualitas: 100%|██████████| 810/810 [01:54<00:00,  7.05it/s]\n"
          ]
        },
        {
          "output_type": "stream",
          "name": "stdout",
          "text": [
            "Selesai: /content/drive/MyDrive/Hasil_Ekstraksi_Telur.csv\n"
          ]
        }
      ]
    }
  ]
}